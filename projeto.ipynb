{
 "cells": [
  {
   "cell_type": "code",
   "execution_count": 4,
   "metadata": {},
   "outputs": [],
   "source": [
    "# Automação de mandar mensagens no whatss!\n",
    "# Usando a funcionalidade nativa do whatsapp de encaminhar mensagem\n",
    "# Encaminhar de 5 em 5 mensagens\n"
   ]
  },
  {
   "cell_type": "code",
   "execution_count": 5,
   "metadata": {},
   "outputs": [],
   "source": [
    "from selenium import webdriver\n",
    "from selenium.webdriver.chrome.service import Service\n",
    "from webdriver_manager.chrome import ChromeDriverManager\n",
    "\n",
    "service = Service(ChromeDriverManager().install())\n",
    "nav = webdriver.Chrome(service=service)\n",
    "nav.get(\"https://web.whatsapp.com\")"
   ]
  },
  {
   "cell_type": "code",
   "execution_count": 6,
   "metadata": {},
   "outputs": [
    {
     "name": "stdout",
     "output_type": "stream",
     "text": [
      "4\n"
     ]
    }
   ],
   "source": [
    "from selenium.webdriver.common.keys import Keys\n",
    "import pyperclip\n",
    "import time\n",
    "\n",
    "\n",
    "mensagem = \"\"\"\n",
    "Olá, eu sou Joaquim, desenvolvedor Freelancer, escolha uma das opções a seguir e\n",
    "me envie o número referente a essa escolha:  🙂\n",
    "\n",
    "1-Fazer orçamento\n",
    "2-Visualizar portfolio\n",
    "\"\"\"\n",
    "\n",
    "lista_contatos = [\"Meu Número\",\"Thalizoka\", \"Joaquim Matheus\", \"eu e vc\"]\n",
    "print(len(lista_contatos))\n",
    "\n",
    "#enviar a mensagem para o meu número e depois encaminhar\n",
    "\n",
    "#clicar na lupa\n",
    "nav.find_element('xpath','//*[@id=\"side\"]/div[1]/div/div[2]/button/div[2]/span').click()\n",
    "#escreve you\n",
    "nav.find_element('xpath', '//*[@id=\"side\"]/div[1]/div/div[2]/div[2]/div/div[1]/p').send_keys(\"You\")\n",
    "#apertar ENTER\n",
    "nav.find_element('xpath', '//*[@id=\"side\"]/div[1]/div/div[2]/div[2]/div/div[1]/p').send_keys(Keys.ENTER)\n",
    "time.sleep(1)\n",
    "\n",
    "# escrever  a mensagem para nós mesmos\n",
    "\n",
    "pyperclip.copy(mensagem)\n",
    "nav.find_element('xpath','//*[@id=\"main\"]/footer/div[1]/div/span[2]/div/div[2]/div[1]/div/div[1]/p').send_keys(Keys.CONTROL + \"v\")\n",
    "nav.find_element('xpath','//*[@id=\"main\"]/footer/div[1]/div/span[2]/div/div[2]/div[1]/div/div[1]/p').send_keys(Keys.ENTER)\n",
    "time.sleep(2)\n",
    "\n",
    "\n",
    "\n",
    "\n",
    "#depois da enter\n",
    "\n",
    "#encaminhar a mensagem para a lista de contatos\n"
   ]
  },
  {
   "cell_type": "code",
   "execution_count": 20,
   "metadata": {},
   "outputs": [
    {
     "name": "stdout",
     "output_type": "stream",
     "text": [
      "Erro ao tentar encaminhar a mensagem: Message: \n",
      "Stacktrace:\n",
      "\tGetHandleVerifier [0x007DC1C3+27395]\n",
      "\t(No symbol) [0x00773DC4]\n",
      "\t(No symbol) [0x00671B7F]\n",
      "\t(No symbol) [0x006B2C65]\n",
      "\t(No symbol) [0x006B2D3B]\n",
      "\t(No symbol) [0x006EEC82]\n",
      "\t(No symbol) [0x006D39E4]\n",
      "\t(No symbol) [0x006ECB24]\n",
      "\t(No symbol) [0x006D3736]\n",
      "\t(No symbol) [0x006A7541]\n",
      "\t(No symbol) [0x006A80BD]\n",
      "\tGetHandleVerifier [0x00A93A93+2876371]\n",
      "\tGetHandleVerifier [0x00AE7F5D+3221661]\n",
      "\tGetHandleVerifier [0x0085D634+556916]\n",
      "\tGetHandleVerifier [0x0086474C+585868]\n",
      "\t(No symbol) [0x0077CE04]\n",
      "\t(No symbol) [0x00779818]\n",
      "\t(No symbol) [0x007799B7]\n",
      "\t(No symbol) [0x0076BF0E]\n",
      "\tBaseThreadInitThunk [0x7730FCC9+25]\n",
      "\tRtlGetAppContainerNamedObjectPath [0x778380CE+286]\n",
      "\tRtlGetAppContainerNamedObjectPath [0x7783809E+238]\n",
      "\n"
     ]
    }
   ],
   "source": [
    "#Encaminhar mensagem para a lista de contatos\n",
    "qtde_contatos = len(lista_contatos)\n",
    "\n",
    "if qtde_contatos % 5 == 0:\n",
    "    qtde_blocos = qtde_contatos / 5\n",
    "else:\n",
    "    qtde_blocos = int(qtde_contatos / 5) + 1\n",
    "\n",
    "for i in range(qtde_blocos):\n",
    "    # rodar o codigo de encaminhar\n",
    "    i_inicial = i * 5\n",
    "    i_final = (i + 1) * 5\n",
    "    lista_enviar = lista_contatos[i_inicial:i_final]\n",
    "\n",
    "    # selecionar a mensagem para enviar e abre a caixa de encaminhar\n",
    "    lista_elementos = nav.find_elements('class name', '_2AOIt') \n",
    "    for item in lista_elementos:\n",
    "        mensagem = mensagem.replace(\"\\n\", \"\")\n",
    "        texto = item.text.replace(\"\\n\", \"\")\n",
    "        if mensagem in texto:\n",
    "            elemento = item\n",
    "        \n",
    "    ActionChains(nav).move_to_element(elemento).perform()\n",
    "    elemento.find_element('class name', '_3u9t-').click()\n",
    "    time.sleep(0.5)\n",
    "    nav.find_element('xpath', '//*[@id=\"app\"]/div/span[4]/div/ul/div/li[4]/div').click()\n",
    "    nav.find_element('xpath', '//*[@id=\"main\"]/span[2]/div/button[4]/span').click()\n",
    "    time.sleep(1)\n",
    "\n",
    "    for nome in lista_enviar:\n",
    "        # selecionar os 5 conttos para enviar\n",
    "        # escrever o nome do contato\n",
    "        nav.find_element('xpath', '//*[@id=\"app\"]/div/span[2]/div/div/div/div/div/div/div/div[1]/div/div/div[2]/div/div[1]/p').send_keys(nome)\n",
    "        time.sleep(1)\n",
    "        # dar enter\n",
    "        nav.find_element('xpath', '//*[@id=\"app\"]/div/span[2]/div/div/div/div/div/div/div/div[1]/div/div/div[2]/div/div[1]/p').send_keys(Keys.ENTER)\n",
    "        time.sleep(1)\n",
    "        # apagar o nome do contato\n",
    "        nav.find_element('xpath', '//*[@id=\"app\"]/div/span[2]/div/div/div/div/div/div/div/div[1]/div/div/div[2]/div/div[1]/p').send_keys(Keys.BACKSPACE)\n",
    "        time.sleep(1)\n",
    "\n",
    "    nav.find_element('xpath', '//*[@id=\"app\"]/div/span[2]/div/div/div/div/div/div/div/span/div/div/div/span').click()\n",
    "    time.sleep(3)"
   ]
  }
 ],
 "metadata": {
  "kernelspec": {
   "display_name": "Python 3",
   "language": "python",
   "name": "python3"
  },
  "language_info": {
   "codemirror_mode": {
    "name": "ipython",
    "version": 3
   },
   "file_extension": ".py",
   "mimetype": "text/x-python",
   "name": "python",
   "nbconvert_exporter": "python",
   "pygments_lexer": "ipython3",
   "version": "3.11.9"
  }
 },
 "nbformat": 4,
 "nbformat_minor": 2
}
